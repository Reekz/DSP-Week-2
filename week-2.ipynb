{
 "cells": [
  {
   "cell_type": "code",
   "execution_count": 1,
   "id": "c7bf5978",
   "metadata": {},
   "outputs": [
    {
     "ename": "ModuleNotFoundError",
     "evalue": "No module named 'numpy'",
     "output_type": "error",
     "traceback": [
      "\u001b[31m---------------------------------------------------------------------------\u001b[39m",
      "\u001b[31mModuleNotFoundError\u001b[39m                       Traceback (most recent call last)",
      "\u001b[36mCell\u001b[39m\u001b[36m \u001b[39m\u001b[32mIn[1]\u001b[39m\u001b[32m, line 1\u001b[39m\n\u001b[32m----> \u001b[39m\u001b[32m1\u001b[39m \u001b[38;5;28;01mimport\u001b[39;00m\u001b[38;5;250m \u001b[39m\u001b[34;01mnumpy\u001b[39;00m\u001b[38;5;250m \u001b[39m\u001b[38;5;28;01mas\u001b[39;00m\u001b[38;5;250m \u001b[39m\u001b[34;01mnp\u001b[39;00m\n\u001b[32m      2\u001b[39m \u001b[38;5;28;01mimport\u001b[39;00m\u001b[38;5;250m \u001b[39m\u001b[34;01mmatplotlib\u001b[39;00m\u001b[34;01m.\u001b[39;00m\u001b[34;01mpyplot\u001b[39;00m\u001b[38;5;250m \u001b[39m\u001b[38;5;28;01mas\u001b[39;00m\u001b[38;5;250m \u001b[39m\u001b[34;01mplt\u001b[39;00m\n\u001b[32m      3\u001b[39m \u001b[38;5;28;01mfrom\u001b[39;00m\u001b[38;5;250m \u001b[39m\u001b[34;01mscipy\u001b[39;00m\u001b[34;01m.\u001b[39;00m\u001b[34;01mio\u001b[39;00m\u001b[38;5;250m \u001b[39m\u001b[38;5;28;01mimport\u001b[39;00m wavfile\n",
      "\u001b[31mModuleNotFoundError\u001b[39m: No module named 'numpy'"
     ]
    }
   ],
   "source": [
    "import numpy as np\n",
    "import matplotlib.pyplot as plt\n",
    "from scipy.io import wavfile\n",
    "\n",
    "# Read in audio file\n",
    "fs, x = wavfile.read(\"week2_unknown_guitar_string.wav\")  # Replace with the correct path if needed\n",
    "\n",
    "# Compute the single-sided frequency spectrum\n",
    "N = len(x)  # Length of audio data\n",
    "X = np.fft.fft(x) / N  # Compute Fourier transform and normalize\n",
    "f = np.fft.fftfreq(N, 1/fs)  # Frequency range\n",
    "f_single = f[:N//2]  # Single-sided frequency range\n",
    "X_single = 2 * np.abs(X[:N//2])  # Single-sided spectrum\n",
    "\n",
    "# Plot the single-sided frequency spectrum\n",
    "plt.figure()\n",
    "plt.plot(f_single, X_single)\n",
    "plt.xlim([0, 1000])  # Limit plot to 0–1kHz range\n",
    "plt.xlabel('Frequency (Hz)')\n",
    "plt.ylabel('Magnitude')\n",
    "plt.title('Single-sided Frequency Spectrum')\n",
    "plt.show()\n",
    "\n",
    "# Find frequency of guitar string\n",
    "max_index = np.argmax(X_single)\n",
    "f_string = f_single[max_index]  # Estimated frequency of guitar string\n",
    "\n",
    "# Determine which string was struck\n",
    "string_names = ['E2', 'A2', 'D3', 'G3', 'B3', 'E4']  # String names\n",
    "expected_freqs = [82.41, 110, 146.83, 196, 246.94, 329.63]  # Expected frequencies\n",
    "string_index = np.argmin(np.abs(f_string - np.array(expected_freqs)))  # Compare estimated freq to expected freqs\n",
    "string_name = string_names[string_index]  # Name of string that was struck\n",
    "\n",
    "print(f'The open guitar string that was struck is {string_name}.')"
   ]
  }
 ],
 "metadata": {
  "kernelspec": {
   "display_name": ".venv",
   "language": "python",
   "name": "python3"
  },
  "language_info": {
   "codemirror_mode": {
    "name": "ipython",
    "version": 3
   },
   "file_extension": ".py",
   "mimetype": "text/x-python",
   "name": "python",
   "nbconvert_exporter": "python",
   "pygments_lexer": "ipython3",
   "version": "3.13.3"
  }
 },
 "nbformat": 4,
 "nbformat_minor": 5
}
